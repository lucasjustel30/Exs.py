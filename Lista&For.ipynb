{
  "nbformat": 4,
  "nbformat_minor": 0,
  "metadata": {
    "colab": {
      "provenance": [],
      "authorship_tag": "ABX9TyNXwavGgV+6qkadWcnugF9N",
      "include_colab_link": true
    },
    "kernelspec": {
      "name": "python3",
      "display_name": "Python 3"
    },
    "language_info": {
      "name": "python"
    }
  },
  "cells": [
    {
      "cell_type": "markdown",
      "metadata": {
        "id": "view-in-github",
        "colab_type": "text"
      },
      "source": [
        "<a href=\"https://colab.research.google.com/github/lucasjustel30/Exs.py/blob/main/Lista%26For.ipynb\" target=\"_parent\"><img src=\"https://colab.research.google.com/assets/colab-badge.svg\" alt=\"Open In Colab\"/></a>"
      ]
    },
    {
      "cell_type": "code",
      "execution_count": 15,
      "metadata": {
        "colab": {
          "base_uri": "https://localhost:8080/"
        },
        "id": "qlP3F_wFl4uX",
        "outputId": "bb1e76b3-c47d-448e-f0d2-66f38503232c"
      },
      "outputs": [
        {
          "output_type": "stream",
          "name": "stdout",
          "text": [
            "1\n",
            "2\n",
            "3\n",
            "4\n",
            "5\n"
          ]
        }
      ],
      "source": [
        "\n",
        "list = [1,2,3,4,5]\n",
        "\n",
        "for element in list:\n",
        "    print(element)\n",
        "\n",
        "\n"
      ]
    },
    {
      "cell_type": "code",
      "source": [
        "\n",
        "lista =  [1,2,3,4,5]\n",
        "\n",
        "i = 0\n",
        "while i < len(lista):\n",
        "    i = i + 1\n",
        "    print(i)\n",
        "\n"
      ],
      "metadata": {
        "colab": {
          "base_uri": "https://localhost:8080/"
        },
        "id": "1kSIxo0xmb7K",
        "outputId": "f43033b5-fac3-4b66-b4f3-890349dce489"
      },
      "execution_count": 16,
      "outputs": [
        {
          "output_type": "stream",
          "name": "stdout",
          "text": [
            "1\n",
            "2\n",
            "3\n",
            "4\n",
            "5\n"
          ]
        }
      ]
    },
    {
      "cell_type": "code",
      "source": [
        "\n",
        "num = int(input('digite um numero'))\n",
        "\n",
        "lista = []\n",
        "for i in range(num):\n",
        "    lista.append(i)\n",
        "print(lista)\n",
        "\n",
        "\n",
        "\n",
        "\n",
        "\n"
      ],
      "metadata": {
        "colab": {
          "base_uri": "https://localhost:8080/"
        },
        "id": "zFu9u8_Vnm-D",
        "outputId": "a9c671a2-efb7-490e-980d-ea919150f2c3"
      },
      "execution_count": 20,
      "outputs": [
        {
          "output_type": "stream",
          "name": "stdout",
          "text": [
            "digite um numero10\n",
            "[0, 1, 2, 3, 4, 5, 6, 7, 8, 9]\n"
          ]
        }
      ]
    },
    {
      "cell_type": "code",
      "source": [
        "\n",
        "x = [1,2,3,4,5,6,7]\n",
        "\n",
        "par = 0\n",
        "for i in x:\n",
        "  if i%2 == 0:\n",
        "    par = par + 1\n",
        "\n",
        "print('a quantidade de numeros pares é: ', par)\n",
        "\n",
        "\n",
        "\n",
        "\n"
      ],
      "metadata": {
        "colab": {
          "base_uri": "https://localhost:8080/"
        },
        "id": "XLY7SqMqpygY",
        "outputId": "6832eded-ce2f-4ccd-99a2-9812cdb8f7d0"
      },
      "execution_count": 24,
      "outputs": [
        {
          "output_type": "stream",
          "name": "stdout",
          "text": [
            "a quantidade de numeros pares é:  3\n"
          ]
        }
      ]
    }
  ]
}